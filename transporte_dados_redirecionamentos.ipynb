{
 "cells": [
  {
   "cell_type": "code",
   "execution_count": 36,
   "id": "707543ea-6b13-4ac2-82d0-0defe489c96e",
   "metadata": {},
   "outputs": [],
   "source": [
    "## !pip install pandas openpyxl"
   ]
  },
  {
   "cell_type": "code",
   "execution_count": 37,
   "id": "19f95e61-d571-4ced-8e98-6538840351c1",
   "metadata": {},
   "outputs": [
    {
     "name": "stdout",
     "output_type": "stream",
     "text": [
      "Arquivo Excel salvo em: X:\\Usuários\\Josi Rodrigues\\Redirecionamentos - Formulários\\Formulário - Ajuste de Distribuição - Casos indefinidos.xlsx\n"
     ]
    }
   ],
   "source": [
    "import pandas as pd\n",
    "from openpyxl import load_workbook\n",
    "from openpyxl.styles import PatternFill, Font\n",
    "\n",
    "# Ler o arquivo Excel original\n",
    "dados = pd.read_excel(r'X:\\Recuperação\\Indicações\\Indicações 2024\\Redirecionamentos - 2024\\Redirecionamentos Unificado.xlsx')\n",
    "\n",
    "# Adicionar colunas com valores padrão\n",
    "dados['Escritório Solicitante'] = 'Rama Advogados Associados'\n",
    "dados['Justificativa Solicitação'] = 'Caso sob condução do escritório'\n",
    "dados['Validador'] = 'OK'\n",
    "dados['Nº Dossiê'] = ''\n",
    "\n",
    "# Renomear colunas\n",
    "colunas_renomeadas = {\n",
    "    'Operação': 'Nº Operação – OP19',\n",
    "    'Carteira': 'Tipo de Carteira'\n",
    "}\n",
    "dados.rename(columns=colunas_renomeadas, inplace=True)\n",
    "\n",
    "# Filtrar as linhas onde a coluna 'Solicitado em' está vazia\n",
    "dados = dados[dados['Solicitado em'].isna()]\n",
    "\n",
    "# Função para validar e retornar o valor adequado na coluna 'Situação'\n",
    "def validar_situacao(situacao):\n",
    "    if 'Indicação' in str(situacao):\n",
    "        return 'Indicação'\n",
    "    elif 'Desindicação' in str(situacao):\n",
    "        return 'Desindicação'\n",
    "    else:\n",
    "        return 'Outros'  # Ou qualquer outro valor padrão\n",
    "\n",
    "# Aplicar a função na coluna 'Situação'\n",
    "dados['Situação'] = dados['Situação'].apply(validar_situacao)\n",
    "\n",
    "# Remover colunas desnecessárias\n",
    "dados = dados.drop(columns=['Regularizado?', 'Solicitado em', 'Data de indicação', 'Cliente'])\n",
    "\n",
    "# Reordenar colunas\n",
    "dados = dados[['Escritório Solicitante', 'Situação', 'Justificativa Solicitação', 'Nº Operação – OP19', 'CPF/CNPJ', \n",
    "               'Nº Dossiê', 'UF', 'Tipo de Carteira', 'Validador']]\n",
    "\n",
    "# Caminho para salvar o arquivo Excel\n",
    "arquivo_excel = r'X:\\Usuários\\Josi Rodrigues\\Redirecionamentos - Formulários\\Formulário - Ajuste de Distribuição - Casos indefinidos.xlsx'\n",
    "\n",
    "# Exportar o DataFrame para o Excel\n",
    "dados.to_excel(arquivo_excel, index=False, engine='openpyxl')\n",
    "\n",
    "# Abrir o arquivo para aplicar a formatação\n",
    "wb = load_workbook(arquivo_excel)  \n",
    "ws = wb.active\n",
    "\n",
    "# Definir a cor de fundo e a cor da fonte\n",
    "fill = PatternFill(start_color=\"FF0000\", end_color=\"FF0000\", fill_type=\"solid\")\n",
    "font = Font(color=\"FFFFFF\", bold=True)\n",
    "\n",
    "# Aplicar a formatação ao cabeçalho\n",
    "for cell in ws[1]:\n",
    "    cell.fill = fill\n",
    "    cell.font = font\n",
    "\n",
    "# Salvar o arquivo Excel com as formatações aplicadas\n",
    "wb.save(arquivo_excel)\n",
    "\n",
    "# Confirmar a extração do arquivo\n",
    "print(f\"Arquivo Excel salvo em: {arquivo_excel}\")\n"
   ]
  },
  {
   "cell_type": "code",
   "execution_count": null,
   "id": "377bc967-e042-4206-9738-2f5b947f73b9",
   "metadata": {},
   "outputs": [],
   "source": []
  }
 ],
 "metadata": {
  "kernelspec": {
   "display_name": "Python 3 (ipykernel)",
   "language": "python",
   "name": "python3"
  },
  "language_info": {
   "codemirror_mode": {
    "name": "ipython",
    "version": 3
   },
   "file_extension": ".py",
   "mimetype": "text/x-python",
   "name": "python",
   "nbconvert_exporter": "python",
   "pygments_lexer": "ipython3",
   "version": "3.11.7"
  }
 },
 "nbformat": 4,
 "nbformat_minor": 5
}
